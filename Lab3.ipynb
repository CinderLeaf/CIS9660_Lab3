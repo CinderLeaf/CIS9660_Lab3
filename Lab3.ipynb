{
  "nbformat": 4,
  "nbformat_minor": 0,
  "metadata": {
    "colab": {
      "name": "Lab3.ipynb",
      "provenance": [],
      "collapsed_sections": []
    },
    "kernelspec": {
      "name": "python3",
      "display_name": "Python 3"
    },
    "language_info": {
      "name": "python"
    }
  },
  "cells": [
    {
      "cell_type": "markdown",
      "source": [
        "Import all the necessary libraries"
      ],
      "metadata": {
        "id": "7Gs5uAegb1V6"
      }
    },
    {
      "cell_type": "code",
      "execution_count": null,
      "metadata": {
        "id": "2EpU0U4rbhHL"
      },
      "outputs": [],
      "source": [
        "#import all the necessary libraries\n",
        "import pandas as pd\n",
        "import matplotlib.pyplot as plt\n",
        "import seaborn as sns"
      ]
    },
    {
      "cell_type": "markdown",
      "source": [
        "Read the dataset from a csv file uploaded to GitHub"
      ],
      "metadata": {
        "id": "XCXkVD1DcCnZ"
      }
    },
    {
      "cell_type": "code",
      "source": [
        "card = pd.read_csv('https://raw.githubusercontent.com/CinderLeaf/CIS9660_Lab3/main/clean_data.csv')"
      ],
      "metadata": {
        "id": "jTH5mxVqcKI5"
      },
      "execution_count": null,
      "outputs": []
    },
    {
      "cell_type": "markdown",
      "source": [
        "Take a look at the dataset"
      ],
      "metadata": {
        "id": "wtfFE6fGeRsW"
      }
    },
    {
      "cell_type": "code",
      "source": [
        "card.head()"
      ],
      "metadata": {
        "colab": {
          "base_uri": "https://localhost:8080/",
          "height": 392
        },
        "id": "TMzPzLpodm2d",
        "outputId": "6e3a5eb0-0623-4b1b-b4fd-444356dc2493"
      },
      "execution_count": null,
      "outputs": [
        {
          "output_type": "execute_result",
          "data": {
            "text/plain": [
              "        ID  Gender  Own_car  Own_property  Work_phone  Phone  Email  \\\n",
              "0  5008804       1        1             1           1      0      0   \n",
              "1  5008806       1        1             1           0      0      0   \n",
              "2  5008808       0        0             1           0      1      1   \n",
              "3  5008812       0        0             1           0      0      0   \n",
              "4  5008815       1        1             1           1      1      1   \n",
              "\n",
              "   Unemployed  Num_children  Num_family  Account_length  Total_income  \\\n",
              "0           0             0           2              15      427500.0   \n",
              "1           0             0           2              29      112500.0   \n",
              "2           0             0           1               4      270000.0   \n",
              "3           1             0           1              20      283500.0   \n",
              "4           0             0           2               5      270000.0   \n",
              "\n",
              "         Age  Years_employed           Income_type  \\\n",
              "0  32.868574       12.435574               Working   \n",
              "1  58.793815        3.104787               Working   \n",
              "2  52.321403        8.353354  Commercial associate   \n",
              "3  61.504343        0.000000             Pensioner   \n",
              "4  46.193967        2.105450               Working   \n",
              "\n",
              "                  Education_type         Family_status       Housing_type  \\\n",
              "0               Higher education        Civil marriage   Rented apartment   \n",
              "1  Secondary / secondary special               Married  House / apartment   \n",
              "2  Secondary / secondary special  Single / not married  House / apartment   \n",
              "3               Higher education             Separated  House / apartment   \n",
              "4               Higher education               Married  House / apartment   \n",
              "\n",
              "  Occupation_type  Target  \n",
              "0           Other       1  \n",
              "1  Security staff       0  \n",
              "2     Sales staff       0  \n",
              "3           Other       0  \n",
              "4     Accountants       0  "
            ],
            "text/html": [
              "\n",
              "  <div id=\"df-132acf0f-1483-44a9-b42b-f31021f3a08c\">\n",
              "    <div class=\"colab-df-container\">\n",
              "      <div>\n",
              "<style scoped>\n",
              "    .dataframe tbody tr th:only-of-type {\n",
              "        vertical-align: middle;\n",
              "    }\n",
              "\n",
              "    .dataframe tbody tr th {\n",
              "        vertical-align: top;\n",
              "    }\n",
              "\n",
              "    .dataframe thead th {\n",
              "        text-align: right;\n",
              "    }\n",
              "</style>\n",
              "<table border=\"1\" class=\"dataframe\">\n",
              "  <thead>\n",
              "    <tr style=\"text-align: right;\">\n",
              "      <th></th>\n",
              "      <th>ID</th>\n",
              "      <th>Gender</th>\n",
              "      <th>Own_car</th>\n",
              "      <th>Own_property</th>\n",
              "      <th>Work_phone</th>\n",
              "      <th>Phone</th>\n",
              "      <th>Email</th>\n",
              "      <th>Unemployed</th>\n",
              "      <th>Num_children</th>\n",
              "      <th>Num_family</th>\n",
              "      <th>Account_length</th>\n",
              "      <th>Total_income</th>\n",
              "      <th>Age</th>\n",
              "      <th>Years_employed</th>\n",
              "      <th>Income_type</th>\n",
              "      <th>Education_type</th>\n",
              "      <th>Family_status</th>\n",
              "      <th>Housing_type</th>\n",
              "      <th>Occupation_type</th>\n",
              "      <th>Target</th>\n",
              "    </tr>\n",
              "  </thead>\n",
              "  <tbody>\n",
              "    <tr>\n",
              "      <th>0</th>\n",
              "      <td>5008804</td>\n",
              "      <td>1</td>\n",
              "      <td>1</td>\n",
              "      <td>1</td>\n",
              "      <td>1</td>\n",
              "      <td>0</td>\n",
              "      <td>0</td>\n",
              "      <td>0</td>\n",
              "      <td>0</td>\n",
              "      <td>2</td>\n",
              "      <td>15</td>\n",
              "      <td>427500.0</td>\n",
              "      <td>32.868574</td>\n",
              "      <td>12.435574</td>\n",
              "      <td>Working</td>\n",
              "      <td>Higher education</td>\n",
              "      <td>Civil marriage</td>\n",
              "      <td>Rented apartment</td>\n",
              "      <td>Other</td>\n",
              "      <td>1</td>\n",
              "    </tr>\n",
              "    <tr>\n",
              "      <th>1</th>\n",
              "      <td>5008806</td>\n",
              "      <td>1</td>\n",
              "      <td>1</td>\n",
              "      <td>1</td>\n",
              "      <td>0</td>\n",
              "      <td>0</td>\n",
              "      <td>0</td>\n",
              "      <td>0</td>\n",
              "      <td>0</td>\n",
              "      <td>2</td>\n",
              "      <td>29</td>\n",
              "      <td>112500.0</td>\n",
              "      <td>58.793815</td>\n",
              "      <td>3.104787</td>\n",
              "      <td>Working</td>\n",
              "      <td>Secondary / secondary special</td>\n",
              "      <td>Married</td>\n",
              "      <td>House / apartment</td>\n",
              "      <td>Security staff</td>\n",
              "      <td>0</td>\n",
              "    </tr>\n",
              "    <tr>\n",
              "      <th>2</th>\n",
              "      <td>5008808</td>\n",
              "      <td>0</td>\n",
              "      <td>0</td>\n",
              "      <td>1</td>\n",
              "      <td>0</td>\n",
              "      <td>1</td>\n",
              "      <td>1</td>\n",
              "      <td>0</td>\n",
              "      <td>0</td>\n",
              "      <td>1</td>\n",
              "      <td>4</td>\n",
              "      <td>270000.0</td>\n",
              "      <td>52.321403</td>\n",
              "      <td>8.353354</td>\n",
              "      <td>Commercial associate</td>\n",
              "      <td>Secondary / secondary special</td>\n",
              "      <td>Single / not married</td>\n",
              "      <td>House / apartment</td>\n",
              "      <td>Sales staff</td>\n",
              "      <td>0</td>\n",
              "    </tr>\n",
              "    <tr>\n",
              "      <th>3</th>\n",
              "      <td>5008812</td>\n",
              "      <td>0</td>\n",
              "      <td>0</td>\n",
              "      <td>1</td>\n",
              "      <td>0</td>\n",
              "      <td>0</td>\n",
              "      <td>0</td>\n",
              "      <td>1</td>\n",
              "      <td>0</td>\n",
              "      <td>1</td>\n",
              "      <td>20</td>\n",
              "      <td>283500.0</td>\n",
              "      <td>61.504343</td>\n",
              "      <td>0.000000</td>\n",
              "      <td>Pensioner</td>\n",
              "      <td>Higher education</td>\n",
              "      <td>Separated</td>\n",
              "      <td>House / apartment</td>\n",
              "      <td>Other</td>\n",
              "      <td>0</td>\n",
              "    </tr>\n",
              "    <tr>\n",
              "      <th>4</th>\n",
              "      <td>5008815</td>\n",
              "      <td>1</td>\n",
              "      <td>1</td>\n",
              "      <td>1</td>\n",
              "      <td>1</td>\n",
              "      <td>1</td>\n",
              "      <td>1</td>\n",
              "      <td>0</td>\n",
              "      <td>0</td>\n",
              "      <td>2</td>\n",
              "      <td>5</td>\n",
              "      <td>270000.0</td>\n",
              "      <td>46.193967</td>\n",
              "      <td>2.105450</td>\n",
              "      <td>Working</td>\n",
              "      <td>Higher education</td>\n",
              "      <td>Married</td>\n",
              "      <td>House / apartment</td>\n",
              "      <td>Accountants</td>\n",
              "      <td>0</td>\n",
              "    </tr>\n",
              "  </tbody>\n",
              "</table>\n",
              "</div>\n",
              "      <button class=\"colab-df-convert\" onclick=\"convertToInteractive('df-132acf0f-1483-44a9-b42b-f31021f3a08c')\"\n",
              "              title=\"Convert this dataframe to an interactive table.\"\n",
              "              style=\"display:none;\">\n",
              "        \n",
              "  <svg xmlns=\"http://www.w3.org/2000/svg\" height=\"24px\"viewBox=\"0 0 24 24\"\n",
              "       width=\"24px\">\n",
              "    <path d=\"M0 0h24v24H0V0z\" fill=\"none\"/>\n",
              "    <path d=\"M18.56 5.44l.94 2.06.94-2.06 2.06-.94-2.06-.94-.94-2.06-.94 2.06-2.06.94zm-11 1L8.5 8.5l.94-2.06 2.06-.94-2.06-.94L8.5 2.5l-.94 2.06-2.06.94zm10 10l.94 2.06.94-2.06 2.06-.94-2.06-.94-.94-2.06-.94 2.06-2.06.94z\"/><path d=\"M17.41 7.96l-1.37-1.37c-.4-.4-.92-.59-1.43-.59-.52 0-1.04.2-1.43.59L10.3 9.45l-7.72 7.72c-.78.78-.78 2.05 0 2.83L4 21.41c.39.39.9.59 1.41.59.51 0 1.02-.2 1.41-.59l7.78-7.78 2.81-2.81c.8-.78.8-2.07 0-2.86zM5.41 20L4 18.59l7.72-7.72 1.47 1.35L5.41 20z\"/>\n",
              "  </svg>\n",
              "      </button>\n",
              "      \n",
              "  <style>\n",
              "    .colab-df-container {\n",
              "      display:flex;\n",
              "      flex-wrap:wrap;\n",
              "      gap: 12px;\n",
              "    }\n",
              "\n",
              "    .colab-df-convert {\n",
              "      background-color: #E8F0FE;\n",
              "      border: none;\n",
              "      border-radius: 50%;\n",
              "      cursor: pointer;\n",
              "      display: none;\n",
              "      fill: #1967D2;\n",
              "      height: 32px;\n",
              "      padding: 0 0 0 0;\n",
              "      width: 32px;\n",
              "    }\n",
              "\n",
              "    .colab-df-convert:hover {\n",
              "      background-color: #E2EBFA;\n",
              "      box-shadow: 0px 1px 2px rgba(60, 64, 67, 0.3), 0px 1px 3px 1px rgba(60, 64, 67, 0.15);\n",
              "      fill: #174EA6;\n",
              "    }\n",
              "\n",
              "    [theme=dark] .colab-df-convert {\n",
              "      background-color: #3B4455;\n",
              "      fill: #D2E3FC;\n",
              "    }\n",
              "\n",
              "    [theme=dark] .colab-df-convert:hover {\n",
              "      background-color: #434B5C;\n",
              "      box-shadow: 0px 1px 3px 1px rgba(0, 0, 0, 0.15);\n",
              "      filter: drop-shadow(0px 1px 2px rgba(0, 0, 0, 0.3));\n",
              "      fill: #FFFFFF;\n",
              "    }\n",
              "  </style>\n",
              "\n",
              "      <script>\n",
              "        const buttonEl =\n",
              "          document.querySelector('#df-132acf0f-1483-44a9-b42b-f31021f3a08c button.colab-df-convert');\n",
              "        buttonEl.style.display =\n",
              "          google.colab.kernel.accessAllowed ? 'block' : 'none';\n",
              "\n",
              "        async function convertToInteractive(key) {\n",
              "          const element = document.querySelector('#df-132acf0f-1483-44a9-b42b-f31021f3a08c');\n",
              "          const dataTable =\n",
              "            await google.colab.kernel.invokeFunction('convertToInteractive',\n",
              "                                                     [key], {});\n",
              "          if (!dataTable) return;\n",
              "\n",
              "          const docLinkHtml = 'Like what you see? Visit the ' +\n",
              "            '<a target=\"_blank\" href=https://colab.research.google.com/notebooks/data_table.ipynb>data table notebook</a>'\n",
              "            + ' to learn more about interactive tables.';\n",
              "          element.innerHTML = '';\n",
              "          dataTable['output_type'] = 'display_data';\n",
              "          await google.colab.output.renderOutput(dataTable, element);\n",
              "          const docLink = document.createElement('div');\n",
              "          docLink.innerHTML = docLinkHtml;\n",
              "          element.appendChild(docLink);\n",
              "        }\n",
              "      </script>\n",
              "    </div>\n",
              "  </div>\n",
              "  "
            ]
          },
          "metadata": {},
          "execution_count": 3
        }
      ]
    },
    {
      "cell_type": "code",
      "source": [
        "card.shape"
      ],
      "metadata": {
        "colab": {
          "base_uri": "https://localhost:8080/"
        },
        "id": "-aGMCHayeUce",
        "outputId": "f98b8350-a195-42a0-efbe-c10a7158c0c0"
      },
      "execution_count": null,
      "outputs": [
        {
          "output_type": "execute_result",
          "data": {
            "text/plain": [
              "(9709, 20)"
            ]
          },
          "metadata": {},
          "execution_count": 4
        }
      ]
    },
    {
      "cell_type": "markdown",
      "source": [
        "We can see that there is no empty roll as this dataset has already been cleaned. "
      ],
      "metadata": {
        "id": "pq-Rv3xYezRX"
      }
    },
    {
      "cell_type": "code",
      "source": [
        "card.info()"
      ],
      "metadata": {
        "colab": {
          "base_uri": "https://localhost:8080/"
        },
        "id": "c6g8oBEgeXNp",
        "outputId": "789a502a-5e95-44da-d394-2d3da1193b60"
      },
      "execution_count": null,
      "outputs": [
        {
          "output_type": "stream",
          "name": "stdout",
          "text": [
            "<class 'pandas.core.frame.DataFrame'>\n",
            "RangeIndex: 9709 entries, 0 to 9708\n",
            "Data columns (total 20 columns):\n",
            " #   Column           Non-Null Count  Dtype  \n",
            "---  ------           --------------  -----  \n",
            " 0   ID               9709 non-null   int64  \n",
            " 1   Gender           9709 non-null   int64  \n",
            " 2   Own_car          9709 non-null   int64  \n",
            " 3   Own_property     9709 non-null   int64  \n",
            " 4   Work_phone       9709 non-null   int64  \n",
            " 5   Phone            9709 non-null   int64  \n",
            " 6   Email            9709 non-null   int64  \n",
            " 7   Unemployed       9709 non-null   int64  \n",
            " 8   Num_children     9709 non-null   int64  \n",
            " 9   Num_family       9709 non-null   int64  \n",
            " 10  Account_length   9709 non-null   int64  \n",
            " 11  Total_income     9709 non-null   float64\n",
            " 12  Age              9709 non-null   float64\n",
            " 13  Years_employed   9709 non-null   float64\n",
            " 14  Income_type      9709 non-null   object \n",
            " 15  Education_type   9709 non-null   object \n",
            " 16  Family_status    9709 non-null   object \n",
            " 17  Housing_type     9709 non-null   object \n",
            " 18  Occupation_type  9709 non-null   object \n",
            " 19  Target           9709 non-null   int64  \n",
            "dtypes: float64(3), int64(12), object(5)\n",
            "memory usage: 1.5+ MB\n"
          ]
        }
      ]
    },
    {
      "cell_type": "markdown",
      "source": [
        "Drop the ID column as it is not relevant in this lab"
      ],
      "metadata": {
        "id": "TJYRHCZhesF4"
      }
    },
    {
      "cell_type": "code",
      "source": [
        "card.drop(['ID'], axis = 1, inplace = True)\n",
        "card.head()"
      ],
      "metadata": {
        "colab": {
          "base_uri": "https://localhost:8080/",
          "height": 392
        },
        "id": "KmHDFmdHehSO",
        "outputId": "58bf9d55-2f51-4398-99d8-b8c5890658cf"
      },
      "execution_count": null,
      "outputs": [
        {
          "output_type": "execute_result",
          "data": {
            "text/plain": [
              "   Gender  Own_car  Own_property  Work_phone  Phone  Email  Unemployed  \\\n",
              "0       1        1             1           1      0      0           0   \n",
              "1       1        1             1           0      0      0           0   \n",
              "2       0        0             1           0      1      1           0   \n",
              "3       0        0             1           0      0      0           1   \n",
              "4       1        1             1           1      1      1           0   \n",
              "\n",
              "   Num_children  Num_family  Account_length  Total_income        Age  \\\n",
              "0             0           2              15      427500.0  32.868574   \n",
              "1             0           2              29      112500.0  58.793815   \n",
              "2             0           1               4      270000.0  52.321403   \n",
              "3             0           1              20      283500.0  61.504343   \n",
              "4             0           2               5      270000.0  46.193967   \n",
              "\n",
              "   Years_employed           Income_type                 Education_type  \\\n",
              "0       12.435574               Working               Higher education   \n",
              "1        3.104787               Working  Secondary / secondary special   \n",
              "2        8.353354  Commercial associate  Secondary / secondary special   \n",
              "3        0.000000             Pensioner               Higher education   \n",
              "4        2.105450               Working               Higher education   \n",
              "\n",
              "          Family_status       Housing_type Occupation_type  Target  \n",
              "0        Civil marriage   Rented apartment           Other       1  \n",
              "1               Married  House / apartment  Security staff       0  \n",
              "2  Single / not married  House / apartment     Sales staff       0  \n",
              "3             Separated  House / apartment           Other       0  \n",
              "4               Married  House / apartment     Accountants       0  "
            ],
            "text/html": [
              "\n",
              "  <div id=\"df-e65a7c64-8106-4d32-8e47-432b65c6c93b\">\n",
              "    <div class=\"colab-df-container\">\n",
              "      <div>\n",
              "<style scoped>\n",
              "    .dataframe tbody tr th:only-of-type {\n",
              "        vertical-align: middle;\n",
              "    }\n",
              "\n",
              "    .dataframe tbody tr th {\n",
              "        vertical-align: top;\n",
              "    }\n",
              "\n",
              "    .dataframe thead th {\n",
              "        text-align: right;\n",
              "    }\n",
              "</style>\n",
              "<table border=\"1\" class=\"dataframe\">\n",
              "  <thead>\n",
              "    <tr style=\"text-align: right;\">\n",
              "      <th></th>\n",
              "      <th>Gender</th>\n",
              "      <th>Own_car</th>\n",
              "      <th>Own_property</th>\n",
              "      <th>Work_phone</th>\n",
              "      <th>Phone</th>\n",
              "      <th>Email</th>\n",
              "      <th>Unemployed</th>\n",
              "      <th>Num_children</th>\n",
              "      <th>Num_family</th>\n",
              "      <th>Account_length</th>\n",
              "      <th>Total_income</th>\n",
              "      <th>Age</th>\n",
              "      <th>Years_employed</th>\n",
              "      <th>Income_type</th>\n",
              "      <th>Education_type</th>\n",
              "      <th>Family_status</th>\n",
              "      <th>Housing_type</th>\n",
              "      <th>Occupation_type</th>\n",
              "      <th>Target</th>\n",
              "    </tr>\n",
              "  </thead>\n",
              "  <tbody>\n",
              "    <tr>\n",
              "      <th>0</th>\n",
              "      <td>1</td>\n",
              "      <td>1</td>\n",
              "      <td>1</td>\n",
              "      <td>1</td>\n",
              "      <td>0</td>\n",
              "      <td>0</td>\n",
              "      <td>0</td>\n",
              "      <td>0</td>\n",
              "      <td>2</td>\n",
              "      <td>15</td>\n",
              "      <td>427500.0</td>\n",
              "      <td>32.868574</td>\n",
              "      <td>12.435574</td>\n",
              "      <td>Working</td>\n",
              "      <td>Higher education</td>\n",
              "      <td>Civil marriage</td>\n",
              "      <td>Rented apartment</td>\n",
              "      <td>Other</td>\n",
              "      <td>1</td>\n",
              "    </tr>\n",
              "    <tr>\n",
              "      <th>1</th>\n",
              "      <td>1</td>\n",
              "      <td>1</td>\n",
              "      <td>1</td>\n",
              "      <td>0</td>\n",
              "      <td>0</td>\n",
              "      <td>0</td>\n",
              "      <td>0</td>\n",
              "      <td>0</td>\n",
              "      <td>2</td>\n",
              "      <td>29</td>\n",
              "      <td>112500.0</td>\n",
              "      <td>58.793815</td>\n",
              "      <td>3.104787</td>\n",
              "      <td>Working</td>\n",
              "      <td>Secondary / secondary special</td>\n",
              "      <td>Married</td>\n",
              "      <td>House / apartment</td>\n",
              "      <td>Security staff</td>\n",
              "      <td>0</td>\n",
              "    </tr>\n",
              "    <tr>\n",
              "      <th>2</th>\n",
              "      <td>0</td>\n",
              "      <td>0</td>\n",
              "      <td>1</td>\n",
              "      <td>0</td>\n",
              "      <td>1</td>\n",
              "      <td>1</td>\n",
              "      <td>0</td>\n",
              "      <td>0</td>\n",
              "      <td>1</td>\n",
              "      <td>4</td>\n",
              "      <td>270000.0</td>\n",
              "      <td>52.321403</td>\n",
              "      <td>8.353354</td>\n",
              "      <td>Commercial associate</td>\n",
              "      <td>Secondary / secondary special</td>\n",
              "      <td>Single / not married</td>\n",
              "      <td>House / apartment</td>\n",
              "      <td>Sales staff</td>\n",
              "      <td>0</td>\n",
              "    </tr>\n",
              "    <tr>\n",
              "      <th>3</th>\n",
              "      <td>0</td>\n",
              "      <td>0</td>\n",
              "      <td>1</td>\n",
              "      <td>0</td>\n",
              "      <td>0</td>\n",
              "      <td>0</td>\n",
              "      <td>1</td>\n",
              "      <td>0</td>\n",
              "      <td>1</td>\n",
              "      <td>20</td>\n",
              "      <td>283500.0</td>\n",
              "      <td>61.504343</td>\n",
              "      <td>0.000000</td>\n",
              "      <td>Pensioner</td>\n",
              "      <td>Higher education</td>\n",
              "      <td>Separated</td>\n",
              "      <td>House / apartment</td>\n",
              "      <td>Other</td>\n",
              "      <td>0</td>\n",
              "    </tr>\n",
              "    <tr>\n",
              "      <th>4</th>\n",
              "      <td>1</td>\n",
              "      <td>1</td>\n",
              "      <td>1</td>\n",
              "      <td>1</td>\n",
              "      <td>1</td>\n",
              "      <td>1</td>\n",
              "      <td>0</td>\n",
              "      <td>0</td>\n",
              "      <td>2</td>\n",
              "      <td>5</td>\n",
              "      <td>270000.0</td>\n",
              "      <td>46.193967</td>\n",
              "      <td>2.105450</td>\n",
              "      <td>Working</td>\n",
              "      <td>Higher education</td>\n",
              "      <td>Married</td>\n",
              "      <td>House / apartment</td>\n",
              "      <td>Accountants</td>\n",
              "      <td>0</td>\n",
              "    </tr>\n",
              "  </tbody>\n",
              "</table>\n",
              "</div>\n",
              "      <button class=\"colab-df-convert\" onclick=\"convertToInteractive('df-e65a7c64-8106-4d32-8e47-432b65c6c93b')\"\n",
              "              title=\"Convert this dataframe to an interactive table.\"\n",
              "              style=\"display:none;\">\n",
              "        \n",
              "  <svg xmlns=\"http://www.w3.org/2000/svg\" height=\"24px\"viewBox=\"0 0 24 24\"\n",
              "       width=\"24px\">\n",
              "    <path d=\"M0 0h24v24H0V0z\" fill=\"none\"/>\n",
              "    <path d=\"M18.56 5.44l.94 2.06.94-2.06 2.06-.94-2.06-.94-.94-2.06-.94 2.06-2.06.94zm-11 1L8.5 8.5l.94-2.06 2.06-.94-2.06-.94L8.5 2.5l-.94 2.06-2.06.94zm10 10l.94 2.06.94-2.06 2.06-.94-2.06-.94-.94-2.06-.94 2.06-2.06.94z\"/><path d=\"M17.41 7.96l-1.37-1.37c-.4-.4-.92-.59-1.43-.59-.52 0-1.04.2-1.43.59L10.3 9.45l-7.72 7.72c-.78.78-.78 2.05 0 2.83L4 21.41c.39.39.9.59 1.41.59.51 0 1.02-.2 1.41-.59l7.78-7.78 2.81-2.81c.8-.78.8-2.07 0-2.86zM5.41 20L4 18.59l7.72-7.72 1.47 1.35L5.41 20z\"/>\n",
              "  </svg>\n",
              "      </button>\n",
              "      \n",
              "  <style>\n",
              "    .colab-df-container {\n",
              "      display:flex;\n",
              "      flex-wrap:wrap;\n",
              "      gap: 12px;\n",
              "    }\n",
              "\n",
              "    .colab-df-convert {\n",
              "      background-color: #E8F0FE;\n",
              "      border: none;\n",
              "      border-radius: 50%;\n",
              "      cursor: pointer;\n",
              "      display: none;\n",
              "      fill: #1967D2;\n",
              "      height: 32px;\n",
              "      padding: 0 0 0 0;\n",
              "      width: 32px;\n",
              "    }\n",
              "\n",
              "    .colab-df-convert:hover {\n",
              "      background-color: #E2EBFA;\n",
              "      box-shadow: 0px 1px 2px rgba(60, 64, 67, 0.3), 0px 1px 3px 1px rgba(60, 64, 67, 0.15);\n",
              "      fill: #174EA6;\n",
              "    }\n",
              "\n",
              "    [theme=dark] .colab-df-convert {\n",
              "      background-color: #3B4455;\n",
              "      fill: #D2E3FC;\n",
              "    }\n",
              "\n",
              "    [theme=dark] .colab-df-convert:hover {\n",
              "      background-color: #434B5C;\n",
              "      box-shadow: 0px 1px 3px 1px rgba(0, 0, 0, 0.15);\n",
              "      filter: drop-shadow(0px 1px 2px rgba(0, 0, 0, 0.3));\n",
              "      fill: #FFFFFF;\n",
              "    }\n",
              "  </style>\n",
              "\n",
              "      <script>\n",
              "        const buttonEl =\n",
              "          document.querySelector('#df-e65a7c64-8106-4d32-8e47-432b65c6c93b button.colab-df-convert');\n",
              "        buttonEl.style.display =\n",
              "          google.colab.kernel.accessAllowed ? 'block' : 'none';\n",
              "\n",
              "        async function convertToInteractive(key) {\n",
              "          const element = document.querySelector('#df-e65a7c64-8106-4d32-8e47-432b65c6c93b');\n",
              "          const dataTable =\n",
              "            await google.colab.kernel.invokeFunction('convertToInteractive',\n",
              "                                                     [key], {});\n",
              "          if (!dataTable) return;\n",
              "\n",
              "          const docLinkHtml = 'Like what you see? Visit the ' +\n",
              "            '<a target=\"_blank\" href=https://colab.research.google.com/notebooks/data_table.ipynb>data table notebook</a>'\n",
              "            + ' to learn more about interactive tables.';\n",
              "          element.innerHTML = '';\n",
              "          dataTable['output_type'] = 'display_data';\n",
              "          await google.colab.output.renderOutput(dataTable, element);\n",
              "          const docLink = document.createElement('div');\n",
              "          docLink.innerHTML = docLinkHtml;\n",
              "          element.appendChild(docLink);\n",
              "        }\n",
              "      </script>\n",
              "    </div>\n",
              "  </div>\n",
              "  "
            ]
          },
          "metadata": {},
          "execution_count": 6
        }
      ]
    },
    {
      "cell_type": "markdown",
      "source": [
        "In the dataset, client with a high risk is labeled as 1, and client with a low risk is labeled as 0. "
      ],
      "metadata": {
        "id": "K0e-ruTwfjVH"
      }
    },
    {
      "cell_type": "code",
      "source": [
        "sns.set(rc={'figure.figsize':(12,8)})\n",
        "\n",
        "sns.heatmap(card.corr())\n",
        "plt.show()"
      ],
      "metadata": {
        "colab": {
          "base_uri": "https://localhost:8080/",
          "height": 569
        },
        "id": "pi4PrCMpfLlA",
        "outputId": "cbef588b-a974-45e5-dc07-570b97ee43d6"
      },
      "execution_count": null,
      "outputs": [
        {
          "output_type": "display_data",
          "data": {
            "text/plain": [
              "<Figure size 864x576 with 2 Axes>"
            ],
            "image/png": "[encoded data removed]"
          },
          "metadata": {}
        }
      ]
    },
    {
      "cell_type": "markdown",
      "source": [
        "Generate a bar chart to show the ratio of unemployment among good clients and bad clients"
      ],
      "metadata": {
        "id": "evibxzfXfWqT"
      }
    },
    {
      "cell_type": "code",
      "source": [
        "sns.countplot(x = 'Target', data = card, hue = 'Unemployed', palette = 'Set2').set(title = \"Number of Good Clients vs Bad Clients\")\n",
        "plt.show()"
      ],
      "metadata": {
        "colab": {
          "base_uri": "https://localhost:8080/",
          "height": 518
        },
        "id": "pZZvH1wRm3Jk",
        "outputId": "9d66460a-6a24-4e39-be1c-dbd75c874bdb"
      },
      "execution_count": null,
      "outputs": [
        {
          "output_type": "display_data",
          "data": {
            "text/plain": [
              "<Figure size 864x576 with 1 Axes>"
            ],
            "image/png": "[encoded data removed]"
          },
          "metadata": {}
        }
      ]
    },
    {
      "cell_type": "markdown",
      "source": [
        "Generate a histogram to show the distribution of age and unemployment as these two features are highly correlated"
      ],
      "metadata": {
        "id": "Z_RwJtyRgHCo"
      }
    },
    {
      "cell_type": "code",
      "source": [
        "sns.displot(x = card['Age'], hue = card['Unemployed'], palette = 'Set2', height = 8).set(title = 'Age Distribution of People Employed vs Unemployed')\n",
        "plt.show()"
      ],
      "metadata": {
        "colab": {
          "base_uri": "https://localhost:8080/",
          "height": 597
        },
        "id": "Waiv5aNbKT70",
        "outputId": "7bcbb292-a680-459a-881c-41a4ec904e4b"
      },
      "execution_count": null,
      "outputs": [
        {
          "output_type": "display_data",
          "data": {
            "text/plain": [
              "<Figure size 660.55x576 with 1 Axes>"
            ],
            "image/png": "[encoded data removed]"
          },
          "metadata": {}
        }
      ]
    },
    {
      "cell_type": "markdown",
      "source": [
        "Generate a boxplot to compare the total income between good clients and bad clients"
      ],
      "metadata": {
        "id": "S-ZAFgthgVkK"
      }
    },
    {
      "cell_type": "code",
      "source": [
        "sns.boxplot(x = 'Target', y = 'Total_income', data = card, palette = 'Set2').set(title = 'Age Distribution of Good Client vs Bad Client')\n",
        "plt.figure(figsize=(20,20))\n",
        "plt.show()"
      ],
      "metadata": {
        "colab": {
          "base_uri": "https://localhost:8080/",
          "height": 536
        },
        "id": "VnFuKNIPnwBW",
        "outputId": "3cbcb021-16a6-42cf-9e08-0518bbb41b0d"
      },
      "execution_count": null,
      "outputs": [
        {
          "output_type": "display_data",
          "data": {
            "text/plain": [
              "<Figure size 864x576 with 1 Axes>"
            ],
            "image/png": "[encoded data removed]"
          },
          "metadata": {}
        },
        {
          "output_type": "display_data",
          "data": {
            "text/plain": [
              "<Figure size 1440x1440 with 0 Axes>"
            ]
          },
          "metadata": {}
        }
      ]
    },
    {
      "cell_type": "markdown",
      "source": [
        "There are several columns that need to be encoded, which are Income_type, Education_type, Family_status, and Housing_type."
      ],
      "metadata": {
        "id": "9rMVes9kgfBf"
      }
    },
    {
      "cell_type": "code",
      "source": [
        "#Convert the categorical column by doing one hot encoding\n",
        "Income_type_encoding = pd.get_dummies(card['Income_type'])\n",
        "Education_type_encoding = pd.get_dummies(card['Education_type'])\n",
        "Family_status_encoding = pd.get_dummies(card['Family_status'])\n",
        "Housing_type_encoding = pd.get_dummies(card['Housing_type'])\n",
        "\n",
        "#Drop the original columns\n",
        "card.drop(['Income_type'], axis = 1, inplace = True)\n",
        "card.drop(['Education_type'], axis = 1, inplace = True)\n",
        "card.drop(['Family_status'], axis = 1, inplace = True)\n",
        "card.drop(['Housing_type'], axis = 1, inplace = True)\n",
        "\n",
        "#Add the encoded columns back to the dataset\n",
        "card = card.join(Income_type_encoding)\n",
        "card = card.join(Education_type_encoding)\n",
        "card = card.join(Family_status_encoding)\n",
        "card = card.join(Housing_type_encoding)\n",
        "\n",
        "#Check the dataset to make sure everything is added correctly\n",
        "card.head()"
      ],
      "metadata": {
        "colab": {
          "base_uri": "https://localhost:8080/",
          "height": 334
        },
        "id": "ljDKSrR9guOS",
        "outputId": "596d40aa-2f63-432c-c24d-8197f03a70fd"
      },
      "execution_count": null,
      "outputs": [
        {
          "output_type": "execute_result",
          "data": {
            "text/plain": [
              "   Gender  Own_car  Own_property  Work_phone  Phone  Email  Unemployed  \\\n",
              "0       1        1             1           1      0      0           0   \n",
              "1       1        1             1           0      0      0           0   \n",
              "2       0        0             1           0      1      1           0   \n",
              "3       0        0             1           0      0      0           1   \n",
              "4       1        1             1           1      1      1           0   \n",
              "\n",
              "   Num_children  Num_family  Account_length  ...  Married  Separated  \\\n",
              "0             0           2              15  ...        0          0   \n",
              "1             0           2              29  ...        1          0   \n",
              "2             0           1               4  ...        0          0   \n",
              "3             0           1              20  ...        0          1   \n",
              "4             0           2               5  ...        1          0   \n",
              "\n",
              "   Single / not married Widow  Co-op apartment  House / apartment  \\\n",
              "0                     0     0                0                  0   \n",
              "1                     0     0                0                  1   \n",
              "2                     1     0                0                  1   \n",
              "3                     0     0                0                  1   \n",
              "4                     0     0                0                  1   \n",
              "\n",
              "   Municipal apartment  Office apartment  Rented apartment  With parents  \n",
              "0                    0                 0                 1             0  \n",
              "1                    0                 0                 0             0  \n",
              "2                    0                 0                 0             0  \n",
              "3                    0                 0                 0             0  \n",
              "4                    0                 0                 0             0  \n",
              "\n",
              "[5 rows x 36 columns]"
            ],
            "text/html": [
              "\n",
              "  <div id=\"df-953318d4-e444-4691-917a-3796102350b9\">\n",
              "    <div class=\"colab-df-container\">\n",
              "      <div>\n",
              "<style scoped>\n",
              "    .dataframe tbody tr th:only-of-type {\n",
              "        vertical-align: middle;\n",
              "    }\n",
              "\n",
              "    .dataframe tbody tr th {\n",
              "        vertical-align: top;\n",
              "    }\n",
              "\n",
              "    .dataframe thead th {\n",
              "        text-align: right;\n",
              "    }\n",
              "</style>\n",
              "<table border=\"1\" class=\"dataframe\">\n",
              "  <thead>\n",
              "    <tr style=\"text-align: right;\">\n",
              "      <th></th>\n",
              "      <th>Gender</th>\n",
              "      <th>Own_car</th>\n",
              "      <th>Own_property</th>\n",
              "      <th>Work_phone</th>\n",
              "      <th>Phone</th>\n",
              "      <th>Email</th>\n",
              "      <th>Unemployed</th>\n",
              "      <th>Num_children</th>\n",
              "      <th>Num_family</th>\n",
              "      <th>Account_length</th>\n",
              "      <th>...</th>\n",
              "      <th>Married</th>\n",
              "      <th>Separated</th>\n",
              "      <th>Single / not married</th>\n",
              "      <th>Widow</th>\n",
              "      <th>Co-op apartment</th>\n",
              "      <th>House / apartment</th>\n",
              "      <th>Municipal apartment</th>\n",
              "      <th>Office apartment</th>\n",
              "      <th>Rented apartment</th>\n",
              "      <th>With parents</th>\n",
              "    </tr>\n",
              "  </thead>\n",
              "  <tbody>\n",
              "    <tr>\n",
              "      <th>0</th>\n",
              "      <td>1</td>\n",
              "      <td>1</td>\n",
              "      <td>1</td>\n",
              "      <td>1</td>\n",
              "      <td>0</td>\n",
              "      <td>0</td>\n",
              "      <td>0</td>\n",
              "      <td>0</td>\n",
              "      <td>2</td>\n",
              "      <td>15</td>\n",
              "      <td>...</td>\n",
              "      <td>0</td>\n",
              "      <td>0</td>\n",
              "      <td>0</td>\n",
              "      <td>0</td>\n",
              "      <td>0</td>\n",
              "      <td>0</td>\n",
              "      <td>0</td>\n",
              "      <td>0</td>\n",
              "      <td>1</td>\n",
              "      <td>0</td>\n",
              "    </tr>\n",
              "    <tr>\n",
              "      <th>1</th>\n",
              "      <td>1</td>\n",
              "      <td>1</td>\n",
              "      <td>1</td>\n",
              "      <td>0</td>\n",
              "      <td>0</td>\n",
              "      <td>0</td>\n",
              "      <td>0</td>\n",
              "      <td>0</td>\n",
              "      <td>2</td>\n",
              "      <td>29</td>\n",
              "      <td>...</td>\n",
              "      <td>1</td>\n",
              "      <td>0</td>\n",
              "      <td>0</td>\n",
              "      <td>0</td>\n",
              "      <td>0</td>\n",
              "      <td>1</td>\n",
              "      <td>0</td>\n",
              "      <td>0</td>\n",
              "      <td>0</td>\n",
              "      <td>0</td>\n",
              "    </tr>\n",
              "    <tr>\n",
              "      <th>2</th>\n",
              "      <td>0</td>\n",
              "      <td>0</td>\n",
              "      <td>1</td>\n",
              "      <td>0</td>\n",
              "      <td>1</td>\n",
              "      <td>1</td>\n",
              "      <td>0</td>\n",
              "      <td>0</td>\n",
              "      <td>1</td>\n",
              "      <td>4</td>\n",
              "      <td>...</td>\n",
              "      <td>0</td>\n",
              "      <td>0</td>\n",
              "      <td>1</td>\n",
              "      <td>0</td>\n",
              "      <td>0</td>\n",
              "      <td>1</td>\n",
              "      <td>0</td>\n",
              "      <td>0</td>\n",
              "      <td>0</td>\n",
              "      <td>0</td>\n",
              "    </tr>\n",
              "    <tr>\n",
              "      <th>3</th>\n",
              "      <td>0</td>\n",
              "      <td>0</td>\n",
              "      <td>1</td>\n",
              "      <td>0</td>\n",
              "      <td>0</td>\n",
              "      <td>0</td>\n",
              "      <td>1</td>\n",
              "      <td>0</td>\n",
              "      <td>1</td>\n",
              "      <td>20</td>\n",
              "      <td>...</td>\n",
              "      <td>0</td>\n",
              "      <td>1</td>\n",
              "      <td>0</td>\n",
              "      <td>0</td>\n",
              "      <td>0</td>\n",
              "      <td>1</td>\n",
              "      <td>0</td>\n",
              "      <td>0</td>\n",
              "      <td>0</td>\n",
              "      <td>0</td>\n",
              "    </tr>\n",
              "    <tr>\n",
              "      <th>4</th>\n",
              "      <td>1</td>\n",
              "      <td>1</td>\n",
              "      <td>1</td>\n",
              "      <td>1</td>\n",
              "      <td>1</td>\n",
              "      <td>1</td>\n",
              "      <td>0</td>\n",
              "      <td>0</td>\n",
              "      <td>2</td>\n",
              "      <td>5</td>\n",
              "      <td>...</td>\n",
              "      <td>1</td>\n",
              "      <td>0</td>\n",
              "      <td>0</td>\n",
              "      <td>0</td>\n",
              "      <td>0</td>\n",
              "      <td>1</td>\n",
              "      <td>0</td>\n",
              "      <td>0</td>\n",
              "      <td>0</td>\n",
              "      <td>0</td>\n",
              "    </tr>\n",
              "  </tbody>\n",
              "</table>\n",
              "<p>5 rows × 36 columns</p>\n",
              "</div>\n",
              "      <button class=\"colab-df-convert\" onclick=\"convertToInteractive('df-953318d4-e444-4691-917a-3796102350b9')\"\n",
              "              title=\"Convert this dataframe to an interactive table.\"\n",
              "              style=\"display:none;\">\n",
              "        \n",
              "  <svg xmlns=\"http://www.w3.org/2000/svg\" height=\"24px\"viewBox=\"0 0 24 24\"\n",
              "       width=\"24px\">\n",
              "    <path d=\"M0 0h24v24H0V0z\" fill=\"none\"/>\n",
              "    <path d=\"M18.56 5.44l.94 2.06.94-2.06 2.06-.94-2.06-.94-.94-2.06-.94 2.06-2.06.94zm-11 1L8.5 8.5l.94-2.06 2.06-.94-2.06-.94L8.5 2.5l-.94 2.06-2.06.94zm10 10l.94 2.06.94-2.06 2.06-.94-2.06-.94-.94-2.06-.94 2.06-2.06.94z\"/><path d=\"M17.41 7.96l-1.37-1.37c-.4-.4-.92-.59-1.43-.59-.52 0-1.04.2-1.43.59L10.3 9.45l-7.72 7.72c-.78.78-.78 2.05 0 2.83L4 21.41c.39.39.9.59 1.41.59.51 0 1.02-.2 1.41-.59l7.78-7.78 2.81-2.81c.8-.78.8-2.07 0-2.86zM5.41 20L4 18.59l7.72-7.72 1.47 1.35L5.41 20z\"/>\n",
              "  </svg>\n",
              "      </button>\n",
              "      \n",
              "  <style>\n",
              "    .colab-df-container {\n",
              "      display:flex;\n",
              "      flex-wrap:wrap;\n",
              "      gap: 12px;\n",
              "    }\n",
              "\n",
              "    .colab-df-convert {\n",
              "      background-color: #E8F0FE;\n",
              "      border: none;\n",
              "      border-radius: 50%;\n",
              "      cursor: pointer;\n",
              "      display: none;\n",
              "      fill: #1967D2;\n",
              "      height: 32px;\n",
              "      padding: 0 0 0 0;\n",
              "      width: 32px;\n",
              "    }\n",
              "\n",
              "    .colab-df-convert:hover {\n",
              "      background-color: #E2EBFA;\n",
              "      box-shadow: 0px 1px 2px rgba(60, 64, 67, 0.3), 0px 1px 3px 1px rgba(60, 64, 67, 0.15);\n",
              "      fill: #174EA6;\n",
              "    }\n",
              "\n",
              "    [theme=dark] .colab-df-convert {\n",
              "      background-color: #3B4455;\n",
              "      fill: #D2E3FC;\n",
              "    }\n",
              "\n",
              "    [theme=dark] .colab-df-convert:hover {\n",
              "      background-color: #434B5C;\n",
              "      box-shadow: 0px 1px 3px 1px rgba(0, 0, 0, 0.15);\n",
              "      filter: drop-shadow(0px 1px 2px rgba(0, 0, 0, 0.3));\n",
              "      fill: #FFFFFF;\n",
              "    }\n",
              "  </style>\n",
              "\n",
              "      <script>\n",
              "        const buttonEl =\n",
              "          document.querySelector('#df-953318d4-e444-4691-917a-3796102350b9 button.colab-df-convert');\n",
              "        buttonEl.style.display =\n",
              "          google.colab.kernel.accessAllowed ? 'block' : 'none';\n",
              "\n",
              "        async function convertToInteractive(key) {\n",
              "          const element = document.querySelector('#df-953318d4-e444-4691-917a-3796102350b9');\n",
              "          const dataTable =\n",
              "            await google.colab.kernel.invokeFunction('convertToInteractive',\n",
              "                                                     [key], {});\n",
              "          if (!dataTable) return;\n",
              "\n",
              "          const docLinkHtml = 'Like what you see? Visit the ' +\n",
              "            '<a target=\"_blank\" href=https://colab.research.google.com/notebooks/data_table.ipynb>data table notebook</a>'\n",
              "            + ' to learn more about interactive tables.';\n",
              "          element.innerHTML = '';\n",
              "          dataTable['output_type'] = 'display_data';\n",
              "          await google.colab.output.renderOutput(dataTable, element);\n",
              "          const docLink = document.createElement('div');\n",
              "          docLink.innerHTML = docLinkHtml;\n",
              "          element.appendChild(docLink);\n",
              "        }\n",
              "      </script>\n",
              "    </div>\n",
              "  </div>\n",
              "  "
            ]
          },
          "metadata": {},
          "execution_count": 11
        }
      ]
    },
    {
      "cell_type": "markdown",
      "source": [
        "Separate the features (x-variables) from the labels (y-variable). The label will be the Target column, and the features will be all the columns except Target and Occupation_type."
      ],
      "metadata": {
        "id": "pTF9Yvhmja6n"
      }
    },
    {
      "cell_type": "code",
      "source": [
        "#Define the features\n",
        "X = card.drop(['Target', 'Occupation_type'], axis = 1).values\n",
        "X"
      ],
      "metadata": {
        "id": "zugY6jq-iUgv",
        "colab": {
          "base_uri": "https://localhost:8080/"
        },
        "outputId": "ae9577bc-e842-46b8-cba6-d7893efd23a1"
      },
      "execution_count": null,
      "outputs": [
        {
          "output_type": "execute_result",
          "data": {
            "text/plain": [
              "array([[1., 1., 1., ..., 0., 1., 0.],\n",
              "       [1., 1., 1., ..., 0., 0., 0.],\n",
              "       [0., 0., 1., ..., 0., 0., 0.],\n",
              "       ...,\n",
              "       [1., 1., 1., ..., 0., 0., 0.],\n",
              "       [0., 0., 1., ..., 0., 0., 0.],\n",
              "       [1., 0., 1., ..., 0., 1., 0.]])"
            ]
          },
          "metadata": {},
          "execution_count": 12
        }
      ]
    },
    {
      "cell_type": "code",
      "source": [
        "#Define the label\n",
        "y = card['Target'].values\n",
        "y"
      ],
      "metadata": {
        "id": "4CrfzsMBkbMa",
        "colab": {
          "base_uri": "https://localhost:8080/"
        },
        "outputId": "f8875d3e-1e4e-456c-fd52-0b65943d867d"
      },
      "execution_count": null,
      "outputs": [
        {
          "output_type": "execute_result",
          "data": {
            "text/plain": [
              "array([1, 0, 0, ..., 1, 1, 1])"
            ]
          },
          "metadata": {},
          "execution_count": 13
        }
      ]
    },
    {
      "cell_type": "markdown",
      "source": [
        "Split the dataset into training and test sets"
      ],
      "metadata": {
        "id": "SpOXvHxHkl5p"
      }
    },
    {
      "cell_type": "code",
      "source": [
        "from sklearn.model_selection import train_test_split\n",
        "X_train, X_test, y_train, y_test = train_test_split(X, y, test_size = 0.30, random_state = 10)"
      ],
      "metadata": {
        "id": "qt35ToAAkxC6"
      },
      "execution_count": null,
      "outputs": []
    },
    {
      "cell_type": "markdown",
      "source": [
        "Perform feature scaling to avoid impacts from outliers"
      ],
      "metadata": {
        "id": "A3s-XX6jlD3t"
      }
    },
    {
      "cell_type": "code",
      "source": [
        "from sklearn.preprocessing import StandardScaler\n",
        "\n",
        "sc = StandardScaler()\n",
        "X_train = sc.fit_transform(X_train)\n",
        "X_test = sc.transform(X_test)"
      ],
      "metadata": {
        "id": "5KQZfKj4lJze"
      },
      "execution_count": null,
      "outputs": []
    },
    {
      "cell_type": "markdown",
      "source": [
        "Train the two models, KNN and NB, with the training dataset"
      ],
      "metadata": {
        "id": "0LZDRsG7laed"
      }
    },
    {
      "cell_type": "code",
      "source": [
        "#Import all the necessary libraries\n",
        "from sklearn.neighbors import KNeighborsClassifier\n",
        "from sklearn.naive_bayes import GaussianNB\n",
        "from sklearn.metrics import classification_report\n",
        "from sklearn.model_selection import KFold\n",
        "from sklearn.model_selection import cross_val_score\n",
        "\n",
        "#Train the KNN model\n",
        "knn = KNeighborsClassifier(n_neighbors = 5)\n",
        "knn.fit(X_train, y_train.ravel())\n",
        "\n",
        "#Train the NB model\n",
        "gnb = GaussianNB()\n",
        "gnb.fit(X_train, y_train.ravel())"
      ],
      "metadata": {
        "id": "QkS0_V8plkLY",
        "colab": {
          "base_uri": "https://localhost:8080/"
        },
        "outputId": "8c95598b-dd00-4878-9f35-93d2623f774b"
      },
      "execution_count": null,
      "outputs": [
        {
          "output_type": "execute_result",
          "data": {
            "text/plain": [
              "GaussianNB()"
            ]
          },
          "metadata": {},
          "execution_count": 61
        }
      ]
    },
    {
      "cell_type": "markdown",
      "source": [
        "Perform a 5-Fold Cross Validation for KNN"
      ],
      "metadata": {
        "id": "l1SCXNNWqHjA"
      }
    },
    {
      "cell_type": "code",
      "source": [
        "kf = KFold(n_splits = 5)\n",
        "\n",
        "#Validate the training model based on its accuracy\n",
        "result = cross_val_score(knn, X_train, y_train.ravel(), cv = kf, scoring = 'accuracy')\n",
        "print(f'Avg accurary: {result.mean()}')"
      ],
      "metadata": {
        "id": "NNTCnpl6qNsr",
        "colab": {
          "base_uri": "https://localhost:8080/"
        },
        "outputId": "a0fc8ae3-1737-4b5e-c950-e19f00157ba1"
      },
      "execution_count": null,
      "outputs": [
        {
          "output_type": "stream",
          "name": "stdout",
          "text": [
            "Avg accurary: 0.8555025321386832\n"
          ]
        }
      ]
    },
    {
      "cell_type": "markdown",
      "source": [
        "Perform a 5-Fold Cross Validation for NB"
      ],
      "metadata": {
        "id": "IWvqgX-Fq1Qk"
      }
    },
    {
      "cell_type": "code",
      "source": [
        "#Validate the training model based on its accuracy\n",
        "result = cross_val_score(gnb, X_train, y_train.ravel(), cv = kf, scoring = 'accuracy')\n",
        "print(f'Avg accurary: {result.mean()}')"
      ],
      "metadata": {
        "id": "bOa3iTQYq7eN",
        "colab": {
          "base_uri": "https://localhost:8080/"
        },
        "outputId": "878ca7ef-192a-41f0-c501-69e7954a1a16"
      },
      "execution_count": null,
      "outputs": [
        {
          "output_type": "stream",
          "name": "stdout",
          "text": [
            "Avg accurary: 0.6945063411678137\n"
          ]
        }
      ]
    },
    {
      "cell_type": "markdown",
      "source": [
        "KNN - Using the model to make predictions on the test dataset"
      ],
      "metadata": {
        "id": "OVSYNANGrLRM"
      }
    },
    {
      "cell_type": "code",
      "source": [
        "#Predict the test set results\n",
        "y_pred_knn = knn.predict(X_test)"
      ],
      "metadata": {
        "id": "fkh89ZpsrPjr"
      },
      "execution_count": null,
      "outputs": []
    },
    {
      "cell_type": "markdown",
      "source": [
        "KNN - Classification report"
      ],
      "metadata": {
        "id": "e9-xhiIvrnb_"
      }
    },
    {
      "cell_type": "code",
      "source": [
        "print(classification_report(y_test, y_pred_knn))"
      ],
      "metadata": {
        "id": "obew9AFErqGs",
        "colab": {
          "base_uri": "https://localhost:8080/"
        },
        "outputId": "0c86bfc9-f28c-418b-c200-db891b4e3e86"
      },
      "execution_count": null,
      "outputs": [
        {
          "output_type": "stream",
          "name": "stdout",
          "text": [
            "              precision    recall  f1-score   support\n",
            "\n",
            "           0       0.86      0.98      0.92      2511\n",
            "           1       0.18      0.02      0.04       402\n",
            "\n",
            "    accuracy                           0.85      2913\n",
            "   macro avg       0.52      0.50      0.48      2913\n",
            "weighted avg       0.77      0.85      0.80      2913\n",
            "\n"
          ]
        }
      ]
    },
    {
      "cell_type": "markdown",
      "source": [
        "NB - Using the model to make predictions on the test dataset"
      ],
      "metadata": {
        "id": "5YWS2CzHrdoV"
      }
    },
    {
      "cell_type": "code",
      "source": [
        "#Predict the test set results\n",
        "y_pred_gnb = gnb.predict(X_test)"
      ],
      "metadata": {
        "id": "BcCjZbyZrf4t"
      },
      "execution_count": null,
      "outputs": []
    },
    {
      "cell_type": "markdown",
      "source": [
        "NB - Classification report"
      ],
      "metadata": {
        "id": "sGQHr4per7u0"
      }
    },
    {
      "cell_type": "code",
      "source": [
        "print(classification_report(y_test, y_pred_gnb))"
      ],
      "metadata": {
        "id": "mXQlRLIUr-S-",
        "colab": {
          "base_uri": "https://localhost:8080/"
        },
        "outputId": "5a4fee28-fa6f-4dfc-d324-939df9fd8d87"
      },
      "execution_count": null,
      "outputs": [
        {
          "output_type": "stream",
          "name": "stdout",
          "text": [
            "              precision    recall  f1-score   support\n",
            "\n",
            "           0       0.86      0.95      0.91      2511\n",
            "           1       0.19      0.07      0.11       402\n",
            "\n",
            "    accuracy                           0.83      2913\n",
            "   macro avg       0.53      0.51      0.51      2913\n",
            "weighted avg       0.77      0.83      0.79      2913\n",
            "\n"
          ]
        }
      ]
    }
  ]
}